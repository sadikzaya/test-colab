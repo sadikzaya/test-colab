{
  "nbformat": 4,
  "nbformat_minor": 0,
  "metadata": {
    "colab": {
      "provenance": [],
      "toc_visible": true,
      "authorship_tag": "ABX9TyPoVgTNlzPA6xfGgXAQMvqs",
      "include_colab_link": true
    },
    "kernelspec": {
      "name": "python3",
      "display_name": "Python 3"
    },
    "language_info": {
      "name": "python"
    }
  },
  "cells": [
    {
      "cell_type": "markdown",
      "metadata": {
        "id": "view-in-github",
        "colab_type": "text"
      },
      "source": [
        "<a href=\"https://colab.research.google.com/github/sadikzaya/test-colab/blob/main/demo.ipynb\" target=\"_parent\"><img src=\"https://colab.research.google.com/assets/colab-badge.svg\" alt=\"Open In Colab\"/></a>"
      ]
    },
    {
      "cell_type": "markdown",
      "source": [
        "### \n",
        "Sales\n",
        "   "
      ],
      "metadata": {
        "id": "tKQQ5J8_RpMI"
      }
    },
    {
      "cell_type": "markdown",
      "source": [
        "# Sales 1\n"
      ],
      "metadata": {
        "id": "IyCUs4gVR7AY"
      }
    },
    {
      "cell_type": "code",
      "execution_count": null,
      "metadata": {
        "id": "CheffxsSEXdE"
      },
      "outputs": [],
      "source": [
        "revenue = 10000\n",
        "tax = 0.91\n",
        "income = revenue * tax \n",
        "income"
      ]
    },
    {
      "cell_type": "code",
      "source": [
        "print(income)"
      ],
      "metadata": {
        "id": "H2qmJgPnP_kR"
      },
      "execution_count": null,
      "outputs": []
    },
    {
      "cell_type": "code",
      "source": [],
      "metadata": {
        "id": "MzE7q0MOQY_l"
      },
      "execution_count": null,
      "outputs": []
    }
  ]
}