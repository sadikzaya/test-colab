{
  "nbformat": 4,
  "nbformat_minor": 0,
  "metadata": {
    "colab": {
      "provenance": [],
      "authorship_tag": "ABX9TyNsBx18fGtsGObkNLnb2X+x",
      "include_colab_link": true
    },
    "kernelspec": {
      "name": "python3",
      "display_name": "Python 3"
    },
    "language_info": {
      "name": "python"
    }
  },
  "cells": [
    {
      "cell_type": "markdown",
      "metadata": {
        "id": "view-in-github",
        "colab_type": "text"
      },
      "source": [
        "<a href=\"https://colab.research.google.com/github/sadikzaya/test-colab/blob/main/tamplate.ipynb\" target=\"_parent\"><img src=\"https://colab.research.google.com/assets/colab-badge.svg\" alt=\"Open In Colab\"/></a>"
      ]
    },
    {
      "cell_type": "code",
      "execution_count": 2,
      "metadata": {
        "id": "CheffxsSEXdE",
        "colab": {
          "base_uri": "https://localhost:8080/"
        },
        "outputId": "4a47c4d8-ed76-4999-bf2a-67950f9d51ab"
      },
      "outputs": [
        {
          "output_type": "stream",
          "name": "stdout",
          "text": [
            "print my name here\n",
            "this python in google colab without installing anything\n"
          ]
        }
      ],
      "source": [
        "print(\"print my name here\")\n",
        "print(\"this python in google colab without installing anything\")"
      ]
    }
  ]
}